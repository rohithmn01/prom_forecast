{
  "nbformat": 4,
  "nbformat_minor": 0,
  "metadata": {
    "colab": {
      "name": "Untitled5.ipynb",
      "provenance": [],
      "collapsed_sections": [],
      "authorship_tag": "ABX9TyOV8mvgJfim2MbdAK3tupaC",
      "include_colab_link": true
    },
    "kernelspec": {
      "name": "python3",
      "display_name": "Python 3"
    },
    "language_info": {
      "name": "python"
    }
  },
  "cells": [
    {
      "cell_type": "markdown",
      "metadata": {
        "id": "view-in-github",
        "colab_type": "text"
      },
      "source": [
        "<a href=\"https://colab.research.google.com/github/rohithmn01/prom_forecast/blob/main/Auto_Arima.ipynb\" target=\"_parent\"><img src=\"https://colab.research.google.com/assets/colab-badge.svg\" alt=\"Open In Colab\"/></a>"
      ]
    },
    {
      "cell_type": "code",
      "metadata": {
        "id": "4M4i6vH_7oFd",
        "colab": {
          "base_uri": "https://localhost:8080/"
        },
        "outputId": "8034d387-d6a1-45a1-ba07-499513e0be77"
      },
      "source": [
        "import requests\n",
        "import copy \n",
        "import pandas as pd\n",
        "URL = \"http://34.67.240.237:30000/api/v1/query?query=node_memory_MemFree_bytes{instance=\\\"10.56.0.2:9100\\\",job=\\\"node-exporter\\\"}[1d]\" \n",
        "r = requests.get(url = URL) \n",
        "\n",
        "data = r.json()\n",
        "\n",
        "data_dict={}\n",
        "metric_list = []\n",
        "\n",
        "for i in data['data']['result']:\n",
        "    counter=0\n",
        "    for j in i['values']:\n",
        "        data_dict = copy.deepcopy(i['metric'])\n",
        "        data_dict['time'] = j[0]\n",
        "        data_dict['value'] = j[1]\n",
        "        metric_list.append(data_dict)        \n",
        "  \n",
        "df_metric = pd.DataFrame(metric_list)\n",
        "\n",
        "df1 = df_metric[['time', 'value']]\n",
        "df1['time'] = pd.to_datetime(df1['time'],unit='s')\n",
        "df1 = df1.set_index('time')\n",
        "df1[\"value\"] = df1.values.astype(float)"
      ],
      "execution_count": 6,
      "outputs": [
        {
          "output_type": "stream",
          "text": [
            "/usr/local/lib/python3.7/dist-packages/ipykernel_launcher.py:23: SettingWithCopyWarning: \n",
            "A value is trying to be set on a copy of a slice from a DataFrame.\n",
            "Try using .loc[row_indexer,col_indexer] = value instead\n",
            "\n",
            "See the caveats in the documentation: https://pandas.pydata.org/pandas-docs/stable/user_guide/indexing.html#returning-a-view-versus-a-copy\n"
          ],
          "name": "stderr"
        }
      ]
    },
    {
      "cell_type": "code",
      "metadata": {
        "colab": {
          "base_uri": "https://localhost:8080/",
          "height": 450
        },
        "id": "0SggnLIpn0f0",
        "outputId": "4a37e136-c6e3-464a-9b70-d59cc2aa32c6"
      },
      "source": [
        "df1"
      ],
      "execution_count": 7,
      "outputs": [
        {
          "output_type": "execute_result",
          "data": {
            "text/html": [
              "<div>\n",
              "<style scoped>\n",
              "    .dataframe tbody tr th:only-of-type {\n",
              "        vertical-align: middle;\n",
              "    }\n",
              "\n",
              "    .dataframe tbody tr th {\n",
              "        vertical-align: top;\n",
              "    }\n",
              "\n",
              "    .dataframe thead th {\n",
              "        text-align: right;\n",
              "    }\n",
              "</style>\n",
              "<table border=\"1\" class=\"dataframe\">\n",
              "  <thead>\n",
              "    <tr style=\"text-align: right;\">\n",
              "      <th></th>\n",
              "      <th>value</th>\n",
              "    </tr>\n",
              "    <tr>\n",
              "      <th>time</th>\n",
              "      <th></th>\n",
              "    </tr>\n",
              "  </thead>\n",
              "  <tbody>\n",
              "    <tr>\n",
              "      <th>2021-08-29 11:04:27.460000038</th>\n",
              "      <td>2.615697e+09</td>\n",
              "    </tr>\n",
              "    <tr>\n",
              "      <th>2021-08-29 11:04:32.460000038</th>\n",
              "      <td>2.614858e+09</td>\n",
              "    </tr>\n",
              "    <tr>\n",
              "      <th>2021-08-29 11:04:37.460000038</th>\n",
              "      <td>2.614641e+09</td>\n",
              "    </tr>\n",
              "    <tr>\n",
              "      <th>2021-08-29 11:04:42.460000038</th>\n",
              "      <td>2.614600e+09</td>\n",
              "    </tr>\n",
              "    <tr>\n",
              "      <th>2021-08-29 11:04:47.460000038</th>\n",
              "      <td>2.616771e+09</td>\n",
              "    </tr>\n",
              "    <tr>\n",
              "      <th>...</th>\n",
              "      <td>...</td>\n",
              "    </tr>\n",
              "    <tr>\n",
              "      <th>2021-08-30 11:04:02.460000038</th>\n",
              "      <td>2.587505e+09</td>\n",
              "    </tr>\n",
              "    <tr>\n",
              "      <th>2021-08-30 11:04:07.460000038</th>\n",
              "      <td>2.588054e+09</td>\n",
              "    </tr>\n",
              "    <tr>\n",
              "      <th>2021-08-30 11:04:12.460000038</th>\n",
              "      <td>2.587496e+09</td>\n",
              "    </tr>\n",
              "    <tr>\n",
              "      <th>2021-08-30 11:04:17.460000038</th>\n",
              "      <td>2.587795e+09</td>\n",
              "    </tr>\n",
              "    <tr>\n",
              "      <th>2021-08-30 11:04:22.460000038</th>\n",
              "      <td>2.586980e+09</td>\n",
              "    </tr>\n",
              "  </tbody>\n",
              "</table>\n",
              "<p>17280 rows × 1 columns</p>\n",
              "</div>"
            ],
            "text/plain": [
              "                                      value\n",
              "time                                       \n",
              "2021-08-29 11:04:27.460000038  2.615697e+09\n",
              "2021-08-29 11:04:32.460000038  2.614858e+09\n",
              "2021-08-29 11:04:37.460000038  2.614641e+09\n",
              "2021-08-29 11:04:42.460000038  2.614600e+09\n",
              "2021-08-29 11:04:47.460000038  2.616771e+09\n",
              "...                                     ...\n",
              "2021-08-30 11:04:02.460000038  2.587505e+09\n",
              "2021-08-30 11:04:07.460000038  2.588054e+09\n",
              "2021-08-30 11:04:12.460000038  2.587496e+09\n",
              "2021-08-30 11:04:17.460000038  2.587795e+09\n",
              "2021-08-30 11:04:22.460000038  2.586980e+09\n",
              "\n",
              "[17280 rows x 1 columns]"
            ]
          },
          "metadata": {},
          "execution_count": 7
        }
      ]
    },
    {
      "cell_type": "code",
      "metadata": {
        "colab": {
          "base_uri": "https://localhost:8080/",
          "height": 307
        },
        "id": "o_JJ0114n7OT",
        "outputId": "25845b61-1b7f-495e-9119-302e846cb9e4"
      },
      "source": [
        "df1.plot()"
      ],
      "execution_count": 8,
      "outputs": [
        {
          "output_type": "execute_result",
          "data": {
            "text/plain": [
              "<matplotlib.axes._subplots.AxesSubplot at 0x7f7942419d50>"
            ]
          },
          "metadata": {},
          "execution_count": 8
        },
        {
          "output_type": "display_data",
          "data": {
            "image/png": "[encoded data removed]",
            "text/plain": [
              "<Figure size 432x288 with 1 Axes>"
            ]
          },
          "metadata": {
            "needs_background": "light"
          }
        }
      ]
    },
    {
      "cell_type": "code",
      "metadata": {
        "colab": {
          "base_uri": "https://localhost:8080/",
          "height": 297
        },
        "id": "Scb0ZUqeoIhC",
        "outputId": "fdb8a1ce-0fd8-4ce9-a806-a40f791cce11"
      },
      "source": [
        "df1.describe()"
      ],
      "execution_count": 9,
      "outputs": [
        {
          "output_type": "execute_result",
          "data": {
            "text/html": [
              "<div>\n",
              "<style scoped>\n",
              "    .dataframe tbody tr th:only-of-type {\n",
              "        vertical-align: middle;\n",
              "    }\n",
              "\n",
              "    .dataframe tbody tr th {\n",
              "        vertical-align: top;\n",
              "    }\n",
              "\n",
              "    .dataframe thead th {\n",
              "        text-align: right;\n",
              "    }\n",
              "</style>\n",
              "<table border=\"1\" class=\"dataframe\">\n",
              "  <thead>\n",
              "    <tr style=\"text-align: right;\">\n",
              "      <th></th>\n",
              "      <th>value</th>\n",
              "    </tr>\n",
              "  </thead>\n",
              "  <tbody>\n",
              "    <tr>\n",
              "      <th>count</th>\n",
              "      <td>1.728000e+04</td>\n",
              "    </tr>\n",
              "    <tr>\n",
              "      <th>mean</th>\n",
              "      <td>2.600127e+09</td>\n",
              "    </tr>\n",
              "    <tr>\n",
              "      <th>std</th>\n",
              "      <td>8.222588e+06</td>\n",
              "    </tr>\n",
              "    <tr>\n",
              "      <th>min</th>\n",
              "      <td>2.579837e+09</td>\n",
              "    </tr>\n",
              "    <tr>\n",
              "      <th>25%</th>\n",
              "      <td>2.593386e+09</td>\n",
              "    </tr>\n",
              "    <tr>\n",
              "      <th>50%</th>\n",
              "      <td>2.599072e+09</td>\n",
              "    </tr>\n",
              "    <tr>\n",
              "      <th>75%</th>\n",
              "      <td>2.606979e+09</td>\n",
              "    </tr>\n",
              "    <tr>\n",
              "      <th>max</th>\n",
              "      <td>2.617995e+09</td>\n",
              "    </tr>\n",
              "  </tbody>\n",
              "</table>\n",
              "</div>"
            ],
            "text/plain": [
              "              value\n",
              "count  1.728000e+04\n",
              "mean   2.600127e+09\n",
              "std    8.222588e+06\n",
              "min    2.579837e+09\n",
              "25%    2.593386e+09\n",
              "50%    2.599072e+09\n",
              "75%    2.606979e+09\n",
              "max    2.617995e+09"
            ]
          },
          "metadata": {},
          "execution_count": 9
        }
      ]
    },
    {
      "cell_type": "code",
      "metadata": {
        "id": "EQdPT4-UoOZ_"
      },
      "source": [
        "### Testing For Stationarity\n",
        "\n",
        "from statsmodels.tsa.stattools import adfuller\n",
        "\n",
        "#Ho: It is non stationary\n",
        "#H1: It is stationary\n",
        "\n",
        "def adfuller_test(y):\n",
        "    result=adfuller(y)\n",
        "    labels = ['ADF Test Statistic','p-value','#Lags Used','Number of Observations Used']\n",
        "    for value,label in zip(result,labels):\n",
        "        print(label+' : '+str(value) )\n",
        "    if result[1] <= 0.05:\n",
        "        print(\"strong evidence against the null hypothesis(Ho), reject the null hypothesis. Data has no unit root and is stationary\")\n",
        "    else:\n",
        "        print(\"weak evidence against null hypothesis, time series has a unit root, indicating it is non-stationary \")"
      ],
      "execution_count": 10,
      "outputs": []
    },
    {
      "cell_type": "code",
      "metadata": {
        "colab": {
          "base_uri": "https://localhost:8080/"
        },
        "id": "zgP3-2EvobB4",
        "outputId": "d015ca01-cfec-4f38-9635-a943b44ea80e"
      },
      "source": [
        "adfuller_test(df1['value'])"
      ],
      "execution_count": 11,
      "outputs": [
        {
          "output_type": "stream",
          "text": [
            "ADF Test Statistic : -1.1519435069562816\n",
            "p-value : 0.6939195419369215\n",
            "#Lags Used : 43\n",
            "Number of Observations Used : 17236\n",
            "weak evidence against null hypothesis, time series has a unit root, indicating it is non-stationary \n"
          ],
          "name": "stdout"
        }
      ]
    },
    {
      "cell_type": "code",
      "metadata": {
        "id": "cWoIS6_jorgB"
      },
      "source": [
        "from statsmodels.tsa.stattools import adfuller\n",
        "import matplotlib.pylab as plt\n",
        "def test_stationarity(timeseries):\n",
        "    \n",
        "    #Determing rolling statistics\n",
        "    #rolmean = pd.rolling_mean(timeseries, window=12)\n",
        "    rolmean = pd.Series(timeseries).rolling(window=12).mean()\n",
        "    #rolstd = pd.rolling_std(timeseries, window=12)\n",
        "    rolstd = pd.Series(timeseries).rolling(window=12).std()\n",
        "\n",
        "    #Plot rolling statistics:\n",
        "    orig = plt.plot(timeseries, color='blue',label='Original')\n",
        "    mean = plt.plot(rolmean, color='red', label='Rolling Mean')\n",
        "    std = plt.plot(rolstd, color='black', label = 'Rolling Std')\n",
        "    plt.legend(loc='best')\n",
        "    plt.title('Rolling Mean & Standard Deviation')\n",
        "    plt.show(block=False)\n",
        "    \n",
        "    #Perform Dickey-Fuller test:\n",
        "    print('Results of Dickey-Fuller Test:')\n",
        "    dftest = adfuller(timeseries, autolag='AIC')\n",
        "    dfoutput = pd.Series(dftest[0:4], index=['Test Statistic','p-value','#Lags Used','Number of Observations Used'])\n",
        "    for key,value in dftest[4].items():\n",
        "        dfoutput['Critical Value (%s)'%key] = value\n",
        "    print(dfoutput)"
      ],
      "execution_count": 12,
      "outputs": []
    },
    {
      "cell_type": "code",
      "metadata": {
        "colab": {
          "base_uri": "https://localhost:8080/",
          "height": 434
        },
        "id": "KPg04bdvow-H",
        "outputId": "c52bf673-fdf8-41bb-cf9f-4f9bc4817793"
      },
      "source": [
        "test_stationarity(df1['value'])"
      ],
      "execution_count": 13,
      "outputs": [
        {
          "output_type": "display_data",
          "data": {
            "image/png": "[encoded data removed]",
            "text/plain": [
              "<Figure size 432x288 with 1 Axes>"
            ]
          },
          "metadata": {
            "needs_background": "light"
          }
        },
        {
          "output_type": "stream",
          "text": [
            "Results of Dickey-Fuller Test:\n",
            "Test Statistic                    -1.151944\n",
            "p-value                            0.693920\n",
            "#Lags Used                        43.000000\n",
            "Number of Observations Used    17236.000000\n",
            "Critical Value (1%)               -3.430729\n",
            "Critical Value (5%)               -2.861708\n",
            "Critical Value (10%)              -2.566859\n",
            "dtype: float64\n"
          ],
          "name": "stdout"
        }
      ]
    },
    {
      "cell_type": "code",
      "metadata": {
        "colab": {
          "base_uri": "https://localhost:8080/",
          "height": 282
        },
        "id": "h0ZYULdIo3TD",
        "outputId": "f38efcee-2655-4cfe-9a6b-8bb0c50045f8"
      },
      "source": [
        "#make the time series stationary\n",
        "#MAKING TS STATIONARY\n",
        "import numpy as np\n",
        "ts_log = np.log(df1['value'])\n",
        "plt.plot(ts_log)"
      ],
      "execution_count": 14,
      "outputs": [
        {
          "output_type": "execute_result",
          "data": {
            "text/plain": [
              "[<matplotlib.lines.Line2D at 0x7f79394b50d0>]"
            ]
          },
          "metadata": {},
          "execution_count": 14
        },
        {
          "output_type": "display_data",
          "data": {
            "image/png": "[encoded data removed]",
            "text/plain": [
              "<Figure size 432x288 with 1 Axes>"
            ]
          },
          "metadata": {
            "needs_background": "light"
          }
        }
      ]
    },
    {
      "cell_type": "code",
      "metadata": {
        "colab": {
          "base_uri": "https://localhost:8080/",
          "height": 434
        },
        "id": "N3He4sK_o_7s",
        "outputId": "f25d0213-0c61-4958-ca42-962822eda8c1"
      },
      "source": [
        "test_stationarity(ts_log)\n"
      ],
      "execution_count": 15,
      "outputs": [
        {
          "output_type": "display_data",
          "data": {
            "image/png": "[encoded data removed]",
            "text/plain": [
              "<Figure size 432x288 with 1 Axes>"
            ]
          },
          "metadata": {
            "needs_background": "light"
          }
        },
        {
          "output_type": "stream",
          "text": [
            "Results of Dickey-Fuller Test:\n",
            "Test Statistic                    -1.138833\n",
            "p-value                            0.699340\n",
            "#Lags Used                        43.000000\n",
            "Number of Observations Used    17236.000000\n",
            "Critical Value (1%)               -3.430729\n",
            "Critical Value (5%)               -2.861708\n",
            "Critical Value (10%)              -2.566859\n",
            "dtype: float64\n"
          ],
          "name": "stdout"
        }
      ]
    },
    {
      "cell_type": "code",
      "metadata": {
        "colab": {
          "base_uri": "https://localhost:8080/",
          "height": 282
        },
        "id": "ONGAtm1PpDdP",
        "outputId": "af69d0ce-5de6-43ca-9cd3-37fd76c6a676"
      },
      "source": [
        "#Smoothing\n",
        "moving_avg = pd.Series(ts_log).rolling(window=12).mean()\n",
        "plt.plot(ts_log)\n",
        "plt.plot(moving_avg, color='red')"
      ],
      "execution_count": 16,
      "outputs": [
        {
          "output_type": "execute_result",
          "data": {
            "text/plain": [
              "[<matplotlib.lines.Line2D at 0x7f79393a4f50>]"
            ]
          },
          "metadata": {},
          "execution_count": 16
        },
        {
          "output_type": "display_data",
          "data": {
            "image/png": "[encoded data removed]",
            "text/plain": [
              "<Figure size 432x288 with 1 Axes>"
            ]
          },
          "metadata": {
            "needs_background": "light"
          }
        }
      ]
    },
    {
      "cell_type": "code",
      "metadata": {
        "colab": {
          "base_uri": "https://localhost:8080/"
        },
        "id": "kzpKI2tapHp4",
        "outputId": "98eb9d49-7d6e-4827-9ce5-53843e490af1"
      },
      "source": [
        "ts_log_moving_avg_diff = ts_log - moving_avg\n",
        "ts_log_moving_avg_diff.head(5)"
      ],
      "execution_count": 17,
      "outputs": [
        {
          "output_type": "execute_result",
          "data": {
            "text/plain": [
              "time\n",
              "2021-08-29 11:04:27.460000038   NaN\n",
              "2021-08-29 11:04:32.460000038   NaN\n",
              "2021-08-29 11:04:37.460000038   NaN\n",
              "2021-08-29 11:04:42.460000038   NaN\n",
              "2021-08-29 11:04:47.460000038   NaN\n",
              "Name: value, dtype: float64"
            ]
          },
          "metadata": {},
          "execution_count": 17
        }
      ]
    },
    {
      "cell_type": "code",
      "metadata": {
        "colab": {
          "base_uri": "https://localhost:8080/"
        },
        "id": "t4sQcWZOpLas",
        "outputId": "c3db69c1-229b-44e8-fcd8-0cbce31afd99"
      },
      "source": [
        "ts_log_moving_avg_diff.dropna(inplace=True)\n",
        "ts_log_moving_avg_diff.head(5)"
      ],
      "execution_count": 18,
      "outputs": [
        {
          "output_type": "execute_result",
          "data": {
            "text/plain": [
              "time\n",
              "2021-08-29 11:05:22.460000038    0.000715\n",
              "2021-08-29 11:05:27.460000038   -0.000037\n",
              "2021-08-29 11:05:32.460000038    0.000221\n",
              "2021-08-29 11:05:37.460000038   -0.000366\n",
              "2021-08-29 11:05:42.460000038    0.000447\n",
              "Name: value, dtype: float64"
            ]
          },
          "metadata": {},
          "execution_count": 18
        }
      ]
    },
    {
      "cell_type": "code",
      "metadata": {
        "colab": {
          "base_uri": "https://localhost:8080/",
          "height": 434
        },
        "id": "9uX2HAA6pSUZ",
        "outputId": "534e2096-2e53-4c2b-9ccc-5e7f087a8da3"
      },
      "source": [
        "#TEST STATIONARITY AGAIN\n",
        "test_stationarity(ts_log_moving_avg_diff)"
      ],
      "execution_count": 19,
      "outputs": [
        {
          "output_type": "display_data",
          "data": {
            "image/png": "[encoded data removed]",
            "text/plain": [
              "<Figure size 432x288 with 1 Axes>"
            ]
          },
          "metadata": {
            "needs_background": "light"
          }
        },
        {
          "output_type": "stream",
          "text": [
            "Results of Dickey-Fuller Test:\n",
            "Test Statistic                   -29.140452\n",
            "p-value                            0.000000\n",
            "#Lags Used                        44.000000\n",
            "Number of Observations Used    17224.000000\n",
            "Critical Value (1%)               -3.430730\n",
            "Critical Value (5%)               -2.861708\n",
            "Critical Value (10%)              -2.566859\n",
            "dtype: float64\n"
          ],
          "name": "stdout"
        }
      ]
    },
    {
      "cell_type": "code",
      "metadata": {
        "id": "REPHIiRspXne"
      },
      "source": [
        "#ts_log.values\n",
        "ts_values=ts_log.values"
      ],
      "execution_count": 21,
      "outputs": []
    },
    {
      "cell_type": "code",
      "metadata": {
        "id": "342bGKCith1K"
      },
      "source": [
        "X = ts_values\n",
        "size = int(len(X) * 0.667)\n",
        "train, test = X[0:size], X[size:len(X)]"
      ],
      "execution_count": 22,
      "outputs": []
    },
    {
      "cell_type": "code",
      "metadata": {
        "colab": {
          "base_uri": "https://localhost:8080/"
        },
        "id": "QjnrNIKlt3Ao",
        "outputId": "57113f0e-14be-4a1a-f7d4-ac540e31b620"
      },
      "source": [
        "### AUTO ARIMA\n",
        "!pip install pmdarima\n"
      ],
      "execution_count": 1,
      "outputs": [
        {
          "output_type": "stream",
          "text": [
            "Requirement already satisfied: pmdarima in /usr/local/lib/python3.7/dist-packages (1.8.2)\n",
            "Requirement already satisfied: pandas>=0.19 in /usr/local/lib/python3.7/dist-packages (from pmdarima) (1.1.5)\n",
            "Requirement already satisfied: urllib3 in /usr/local/lib/python3.7/dist-packages (from pmdarima) (1.24.3)\n",
            "Requirement already satisfied: statsmodels!=0.12.0,>=0.11 in /usr/local/lib/python3.7/dist-packages (from pmdarima) (0.12.2)\n",
            "Requirement already satisfied: setuptools!=50.0.0,>=38.6.0 in /usr/local/lib/python3.7/dist-packages (from pmdarima) (57.4.0)\n",
            "Requirement already satisfied: joblib>=0.11 in /usr/local/lib/python3.7/dist-packages (from pmdarima) (1.0.1)\n",
            "Requirement already satisfied: scipy>=1.3.2 in /usr/local/lib/python3.7/dist-packages (from pmdarima) (1.4.1)\n",
            "Requirement already satisfied: numpy~=1.19.0 in /usr/local/lib/python3.7/dist-packages (from pmdarima) (1.19.5)\n",
            "Requirement already satisfied: Cython!=0.29.18,>=0.29 in /usr/local/lib/python3.7/dist-packages (from pmdarima) (0.29.24)\n",
            "Requirement already satisfied: scikit-learn>=0.22 in /usr/local/lib/python3.7/dist-packages (from pmdarima) (0.22.2.post1)\n",
            "Requirement already satisfied: python-dateutil>=2.7.3 in /usr/local/lib/python3.7/dist-packages (from pandas>=0.19->pmdarima) (2.8.2)\n",
            "Requirement already satisfied: pytz>=2017.2 in /usr/local/lib/python3.7/dist-packages (from pandas>=0.19->pmdarima) (2018.9)\n",
            "Requirement already satisfied: six>=1.5 in /usr/local/lib/python3.7/dist-packages (from python-dateutil>=2.7.3->pandas>=0.19->pmdarima) (1.15.0)\n",
            "Requirement already satisfied: patsy>=0.5 in /usr/local/lib/python3.7/dist-packages (from statsmodels!=0.12.0,>=0.11->pmdarima) (0.5.1)\n"
          ],
          "name": "stdout"
        }
      ]
    },
    {
      "cell_type": "code",
      "metadata": {
        "id": "Y9zJSrTIuMuQ"
      },
      "source": [
        "from pmdarima.arima import auto_arima\n"
      ],
      "execution_count": 23,
      "outputs": []
    },
    {
      "cell_type": "code",
      "metadata": {
        "id": "ADogZskxuru3"
      },
      "source": [
        "arima_model = auto_arima(train, start_p=1, start_q=1, d=1, max_p=4, max_q=4, start_P=1, \n",
        "                         D=None, start_Q=1, max_P=4, max_D=1, max_Q=4, max_order=5, m=1, \n",
        "                         seasonal=True, stationary=False, information_criterion='aic', \n",
        "                         alpha=0.05, test='kpss', seasonal_test='ocsb', stepwise=True, \n",
        "                         n_jobs=1, start_params=None, trend=None, method='lbfgs', \n",
        "                         maxiter=50, offset_test_args=None, seasonal_test_args=None, \n",
        "                         suppress_warnings=True, error_action='trace', trace=False, \n",
        "                         random=False, random_state=None, n_fits=10, \n",
        "                         return_valid_fits=False, out_of_sample_size=0, \n",
        "                         scoring='mse', scoring_args=None, with_intercept='auto', \n",
        "                         sarimax_kwargs=None)"
      ],
      "execution_count": 24,
      "outputs": []
    },
    {
      "cell_type": "code",
      "metadata": {
        "colab": {
          "base_uri": "https://localhost:8080/",
          "height": 566
        },
        "id": "BA8ycuHKwMyg",
        "outputId": "01c1037c-2f55-4f52-d8ad-d0367d84b800"
      },
      "source": [
        "arima_model.summary()\n"
      ],
      "execution_count": 25,
      "outputs": [
        {
          "output_type": "execute_result",
          "data": {
            "text/html": [
              "<table class=\"simpletable\">\n",
              "<caption>SARIMAX Results</caption>\n",
              "<tr>\n",
              "  <th>Dep. Variable:</th>           <td>y</td>        <th>  No. Observations:  </th>    <td>11525</td>   \n",
              "</tr>\n",
              "<tr>\n",
              "  <th>Model:</th>           <td>SARIMAX(4, 1, 3)</td> <th>  Log Likelihood     </th>  <td>74847.476</td> \n",
              "</tr>\n",
              "<tr>\n",
              "  <th>Date:</th>            <td>Mon, 30 Aug 2021</td> <th>  AIC                </th> <td>-149676.952</td>\n",
              "</tr>\n",
              "<tr>\n",
              "  <th>Time:</th>                <td>11:10:51</td>     <th>  BIC                </th> <td>-149610.782</td>\n",
              "</tr>\n",
              "<tr>\n",
              "  <th>Sample:</th>                  <td>0</td>        <th>  HQIC               </th> <td>-149654.711</td>\n",
              "</tr>\n",
              "<tr>\n",
              "  <th></th>                     <td> - 11525</td>     <th>                     </th>      <td> </td>     \n",
              "</tr>\n",
              "<tr>\n",
              "  <th>Covariance Type:</th>        <td>opg</td>       <th>                     </th>      <td> </td>     \n",
              "</tr>\n",
              "</table>\n",
              "<table class=\"simpletable\">\n",
              "<tr>\n",
              "      <td></td>         <th>coef</th>     <th>std err</th>      <th>z</th>      <th>P>|z|</th>  <th>[0.025</th>    <th>0.975]</th>  \n",
              "</tr>\n",
              "<tr>\n",
              "  <th>intercept</th> <td>-3.027e-06</td> <td> 1.14e-06</td> <td>   -2.650</td> <td> 0.008</td> <td>-5.27e-06</td> <td>-7.88e-07</td>\n",
              "</tr>\n",
              "<tr>\n",
              "  <th>ar.L1</th>     <td>   -0.6062</td> <td>    0.005</td> <td> -113.622</td> <td> 0.000</td> <td>   -0.617</td> <td>   -0.596</td>\n",
              "</tr>\n",
              "<tr>\n",
              "  <th>ar.L2</th>     <td>   -0.6749</td> <td>    0.009</td> <td>  -78.510</td> <td> 0.000</td> <td>   -0.692</td> <td>   -0.658</td>\n",
              "</tr>\n",
              "<tr>\n",
              "  <th>ar.L3</th>     <td>    0.1393</td> <td>    0.016</td> <td>    8.604</td> <td> 0.000</td> <td>    0.108</td> <td>    0.171</td>\n",
              "</tr>\n",
              "<tr>\n",
              "  <th>ar.L4</th>     <td>    0.0306</td> <td>    0.011</td> <td>    2.746</td> <td> 0.006</td> <td>    0.009</td> <td>    0.052</td>\n",
              "</tr>\n",
              "<tr>\n",
              "  <th>ma.L1</th>     <td>   -0.1625</td> <td>    0.005</td> <td>  -32.614</td> <td> 0.000</td> <td>   -0.172</td> <td>   -0.153</td>\n",
              "</tr>\n",
              "<tr>\n",
              "  <th>ma.L2</th>     <td>    0.1533</td> <td>    0.005</td> <td>   29.175</td> <td> 0.000</td> <td>    0.143</td> <td>    0.164</td>\n",
              "</tr>\n",
              "<tr>\n",
              "  <th>ma.L3</th>     <td>   -0.7028</td> <td>    0.012</td> <td>  -56.752</td> <td> 0.000</td> <td>   -0.727</td> <td>   -0.679</td>\n",
              "</tr>\n",
              "<tr>\n",
              "  <th>sigma2</th>    <td> 1.383e-07</td> <td> 1.38e-09</td> <td>  100.135</td> <td> 0.000</td> <td> 1.36e-07</td> <td> 1.41e-07</td>\n",
              "</tr>\n",
              "</table>\n",
              "<table class=\"simpletable\">\n",
              "<tr>\n",
              "  <th>Ljung-Box (L1) (Q):</th>     <td>19.46</td> <th>  Jarque-Bera (JB):  </th> <td>5809.26</td>\n",
              "</tr>\n",
              "<tr>\n",
              "  <th>Prob(Q):</th>                <td>0.00</td>  <th>  Prob(JB):          </th>  <td>0.00</td>  \n",
              "</tr>\n",
              "<tr>\n",
              "  <th>Heteroskedasticity (H):</th> <td>1.03</td>  <th>  Skew:              </th>  <td>-0.99</td> \n",
              "</tr>\n",
              "<tr>\n",
              "  <th>Prob(H) (two-sided):</th>    <td>0.31</td>  <th>  Kurtosis:          </th>  <td>5.86</td>  \n",
              "</tr>\n",
              "</table><br/><br/>Warnings:<br/>[1] Covariance matrix calculated using the outer product of gradients (complex-step).<br/>[2] Covariance matrix is singular or near-singular, with condition number 1.35e+17. Standard errors may be unstable."
            ],
            "text/plain": [
              "<class 'statsmodels.iolib.summary.Summary'>\n",
              "\"\"\"\n",
              "                               SARIMAX Results                                \n",
              "==============================================================================\n",
              "Dep. Variable:                      y   No. Observations:                11525\n",
              "Model:               SARIMAX(4, 1, 3)   Log Likelihood               74847.476\n",
              "Date:                Mon, 30 Aug 2021   AIC                        -149676.952\n",
              "Time:                        11:10:51   BIC                        -149610.782\n",
              "Sample:                             0   HQIC                       -149654.711\n",
              "                              - 11525                                         \n",
              "Covariance Type:                  opg                                         \n",
              "==============================================================================\n",
              "                 coef    std err          z      P>|z|      [0.025      0.975]\n",
              "------------------------------------------------------------------------------\n",
              "intercept  -3.027e-06   1.14e-06     -2.650      0.008   -5.27e-06   -7.88e-07\n",
              "ar.L1         -0.6062      0.005   -113.622      0.000      -0.617      -0.596\n",
              "ar.L2         -0.6749      0.009    -78.510      0.000      -0.692      -0.658\n",
              "ar.L3          0.1393      0.016      8.604      0.000       0.108       0.171\n",
              "ar.L4          0.0306      0.011      2.746      0.006       0.009       0.052\n",
              "ma.L1         -0.1625      0.005    -32.614      0.000      -0.172      -0.153\n",
              "ma.L2          0.1533      0.005     29.175      0.000       0.143       0.164\n",
              "ma.L3         -0.7028      0.012    -56.752      0.000      -0.727      -0.679\n",
              "sigma2      1.383e-07   1.38e-09    100.135      0.000    1.36e-07    1.41e-07\n",
              "===================================================================================\n",
              "Ljung-Box (L1) (Q):                  19.46   Jarque-Bera (JB):              5809.26\n",
              "Prob(Q):                              0.00   Prob(JB):                         0.00\n",
              "Heteroskedasticity (H):               1.03   Skew:                            -0.99\n",
              "Prob(H) (two-sided):                  0.31   Kurtosis:                         5.86\n",
              "===================================================================================\n",
              "\n",
              "Warnings:\n",
              "[1] Covariance matrix calculated using the outer product of gradients (complex-step).\n",
              "[2] Covariance matrix is singular or near-singular, with condition number 1.35e+17. Standard errors may be unstable.\n",
              "\"\"\""
            ]
          },
          "metadata": {},
          "execution_count": 25
        }
      ]
    },
    {
      "cell_type": "code",
      "metadata": {
        "id": "820DYtLgwUxC"
      },
      "source": [
        "prediction_arima_model = pd.DataFrame(arima_model.predict(n_periods=len(test)))\n",
        "prediction_arima_model.columns = ['predicted_memory_free_bytes']"
      ],
      "execution_count": 26,
      "outputs": []
    },
    {
      "cell_type": "code",
      "metadata": {
        "colab": {
          "base_uri": "https://localhost:8080/",
          "height": 419
        },
        "id": "mKY4ObWiwf2R",
        "outputId": "887e3e5a-eab1-4108-b1f5-e7530ac498dc"
      },
      "source": [
        "np.exp(prediction_arima_model)"
      ],
      "execution_count": 27,
      "outputs": [
        {
          "output_type": "execute_result",
          "data": {
            "text/html": [
              "<div>\n",
              "<style scoped>\n",
              "    .dataframe tbody tr th:only-of-type {\n",
              "        vertical-align: middle;\n",
              "    }\n",
              "\n",
              "    .dataframe tbody tr th {\n",
              "        vertical-align: top;\n",
              "    }\n",
              "\n",
              "    .dataframe thead th {\n",
              "        text-align: right;\n",
              "    }\n",
              "</style>\n",
              "<table border=\"1\" class=\"dataframe\">\n",
              "  <thead>\n",
              "    <tr style=\"text-align: right;\">\n",
              "      <th></th>\n",
              "      <th>predicted_memory_free_bytes</th>\n",
              "    </tr>\n",
              "  </thead>\n",
              "  <tbody>\n",
              "    <tr>\n",
              "      <th>0</th>\n",
              "      <td>2.594983e+09</td>\n",
              "    </tr>\n",
              "    <tr>\n",
              "      <th>1</th>\n",
              "      <td>2.595054e+09</td>\n",
              "    </tr>\n",
              "    <tr>\n",
              "      <th>2</th>\n",
              "      <td>2.594940e+09</td>\n",
              "    </tr>\n",
              "    <tr>\n",
              "      <th>3</th>\n",
              "      <td>2.594943e+09</td>\n",
              "    </tr>\n",
              "    <tr>\n",
              "      <th>4</th>\n",
              "      <td>2.595028e+09</td>\n",
              "    </tr>\n",
              "    <tr>\n",
              "      <th>...</th>\n",
              "      <td>...</td>\n",
              "    </tr>\n",
              "    <tr>\n",
              "      <th>5750</th>\n",
              "      <td>2.573678e+09</td>\n",
              "    </tr>\n",
              "    <tr>\n",
              "      <th>5751</th>\n",
              "      <td>2.573675e+09</td>\n",
              "    </tr>\n",
              "    <tr>\n",
              "      <th>5752</th>\n",
              "      <td>2.573671e+09</td>\n",
              "    </tr>\n",
              "    <tr>\n",
              "      <th>5753</th>\n",
              "      <td>2.573667e+09</td>\n",
              "    </tr>\n",
              "    <tr>\n",
              "      <th>5754</th>\n",
              "      <td>2.573664e+09</td>\n",
              "    </tr>\n",
              "  </tbody>\n",
              "</table>\n",
              "<p>5755 rows × 1 columns</p>\n",
              "</div>"
            ],
            "text/plain": [
              "      predicted_memory_free_bytes\n",
              "0                    2.594983e+09\n",
              "1                    2.595054e+09\n",
              "2                    2.594940e+09\n",
              "3                    2.594943e+09\n",
              "4                    2.595028e+09\n",
              "...                           ...\n",
              "5750                 2.573678e+09\n",
              "5751                 2.573675e+09\n",
              "5752                 2.573671e+09\n",
              "5753                 2.573667e+09\n",
              "5754                 2.573664e+09\n",
              "\n",
              "[5755 rows x 1 columns]"
            ]
          },
          "metadata": {},
          "execution_count": 27
        }
      ]
    },
    {
      "cell_type": "code",
      "metadata": {
        "colab": {
          "base_uri": "https://localhost:8080/",
          "height": 331
        },
        "id": "g9HVslSlwoV2",
        "outputId": "2d82446b-fe83-4ed6-baae-e491bde9a5ef"
      },
      "source": [
        "plt.figure(figsize=(8,5))\n",
        "#plt.plot(train, label='Training')\n",
        "plt.plot(np.exp(test), label='Test')\n",
        "plt.plot(np.exp(prediction_arima_model), label='Predictions')\n",
        "plt.legend(loc = 'upper left')\n",
        "plt.show()"
      ],
      "execution_count": 28,
      "outputs": [
        {
          "output_type": "display_data",
          "data": {
            "image/png": "[encoded data removed]",
            "text/plain": [
              "<Figure size 576x360 with 1 Axes>"
            ]
          },
          "metadata": {
            "needs_background": "light"
          }
        }
      ]
    }
  ]
}