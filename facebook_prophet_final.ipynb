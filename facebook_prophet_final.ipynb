{
  "nbformat": 4,
  "nbformat_minor": 0,
  "metadata": {
    "colab": {
      "name": "Untitled6.ipynb",
      "provenance": [],
      "authorship_tag": "ABX9TyOA4Bqe8gZ5ojdV6JuSrBSg",
      "include_colab_link": true
    },
    "kernelspec": {
      "name": "python3",
      "display_name": "Python 3"
    },
    "language_info": {
      "name": "python"
    }
  },
  "cells": [
    {
      "cell_type": "markdown",
      "metadata": {
        "id": "view-in-github",
        "colab_type": "text"
      },
      "source": [
        "<a href=\"https://colab.research.google.com/github/rohithmn01/prom_forecast/blob/main/facebook_prophet_final.ipynb\" target=\"_parent\"><img src=\"https://colab.research.google.com/assets/colab-badge.svg\" alt=\"Open In Colab\"/></a>"
      ]
    },
    {
      "cell_type": "code",
      "metadata": {
        "colab": {
          "base_uri": "https://localhost:8080/"
        },
        "id": "HEsEUXRR2tTP",
        "outputId": "dadbd6ff-4c7f-4d85-d3c9-bc157993f06e"
      },
      "source": [
        "import requests\n",
        "import copy \n",
        "import pandas as pd\n",
        "URL = \"http://34.67.240.237:30000/api/v1/query?query=node_memory_MemFree_bytes{instance=\\\"10.56.0.2:9100\\\",job=\\\"node-exporter\\\"}[1d]\" \n",
        "r = requests.get(url = URL) \n",
        "\n",
        "data = r.json()\n",
        "\n",
        "data_dict={}\n",
        "metric_list = []\n",
        "\n",
        "for i in data['data']['result']:\n",
        "    counter=0\n",
        "    for j in i['values']:\n",
        "        data_dict = copy.deepcopy(i['metric'])\n",
        "        data_dict['time'] = j[0]\n",
        "        data_dict['value'] = j[1]\n",
        "        metric_list.append(data_dict)        \n",
        "  \n",
        "df_metric = pd.DataFrame(metric_list)\n",
        "\n",
        "df1 = df_metric[['time', 'value']]\n",
        "df1['time'] = pd.to_datetime(df1['time'],unit='s')\n",
        "df1 = df1.set_index('time')\n",
        "df1[\"value\"] = df1.values.astype(float)"
      ],
      "execution_count": 9,
      "outputs": [
        {
          "output_type": "stream",
          "text": [
            "/usr/local/lib/python3.7/dist-packages/ipykernel_launcher.py:23: SettingWithCopyWarning:\n",
            "\n",
            "\n",
            "A value is trying to be set on a copy of a slice from a DataFrame.\n",
            "Try using .loc[row_indexer,col_indexer] = value instead\n",
            "\n",
            "See the caveats in the documentation: https://pandas.pydata.org/pandas-docs/stable/user_guide/indexing.html#returning-a-view-versus-a-copy\n",
            "\n"
          ],
          "name": "stderr"
        }
      ]
    },
    {
      "cell_type": "code",
      "metadata": {
        "colab": {
          "base_uri": "https://localhost:8080/",
          "height": 450
        },
        "id": "BsFYPV2n20Ew",
        "outputId": "9c9b993b-628c-41bb-f025-65cf612711dd"
      },
      "source": [
        "df1"
      ],
      "execution_count": 10,
      "outputs": [
        {
          "output_type": "execute_result",
          "data": {
            "text/html": [
              "<div>\n",
              "<style scoped>\n",
              "    .dataframe tbody tr th:only-of-type {\n",
              "        vertical-align: middle;\n",
              "    }\n",
              "\n",
              "    .dataframe tbody tr th {\n",
              "        vertical-align: top;\n",
              "    }\n",
              "\n",
              "    .dataframe thead th {\n",
              "        text-align: right;\n",
              "    }\n",
              "</style>\n",
              "<table border=\"1\" class=\"dataframe\">\n",
              "  <thead>\n",
              "    <tr style=\"text-align: right;\">\n",
              "      <th></th>\n",
              "      <th>value</th>\n",
              "    </tr>\n",
              "    <tr>\n",
              "      <th>time</th>\n",
              "      <th></th>\n",
              "    </tr>\n",
              "  </thead>\n",
              "  <tbody>\n",
              "    <tr>\n",
              "      <th>2021-08-29 11:45:12.460000038</th>\n",
              "      <td>2.615091e+09</td>\n",
              "    </tr>\n",
              "    <tr>\n",
              "      <th>2021-08-29 11:45:17.460000038</th>\n",
              "      <td>2.614931e+09</td>\n",
              "    </tr>\n",
              "    <tr>\n",
              "      <th>2021-08-29 11:45:22.460000038</th>\n",
              "      <td>2.615648e+09</td>\n",
              "    </tr>\n",
              "    <tr>\n",
              "      <th>2021-08-29 11:45:27.460000038</th>\n",
              "      <td>2.615190e+09</td>\n",
              "    </tr>\n",
              "    <tr>\n",
              "      <th>2021-08-29 11:45:32.460000038</th>\n",
              "      <td>2.616164e+09</td>\n",
              "    </tr>\n",
              "    <tr>\n",
              "      <th>...</th>\n",
              "      <td>...</td>\n",
              "    </tr>\n",
              "    <tr>\n",
              "      <th>2021-08-30 11:44:47.460000038</th>\n",
              "      <td>2.587054e+09</td>\n",
              "    </tr>\n",
              "    <tr>\n",
              "      <th>2021-08-30 11:44:52.460000038</th>\n",
              "      <td>2.587222e+09</td>\n",
              "    </tr>\n",
              "    <tr>\n",
              "      <th>2021-08-30 11:44:57.460000038</th>\n",
              "      <td>2.584273e+09</td>\n",
              "    </tr>\n",
              "    <tr>\n",
              "      <th>2021-08-30 11:45:02.460000038</th>\n",
              "      <td>2.586968e+09</td>\n",
              "    </tr>\n",
              "    <tr>\n",
              "      <th>2021-08-30 11:45:07.460000038</th>\n",
              "      <td>2.586538e+09</td>\n",
              "    </tr>\n",
              "  </tbody>\n",
              "</table>\n",
              "<p>17280 rows × 1 columns</p>\n",
              "</div>"
            ],
            "text/plain": [
              "                                      value\n",
              "time                                       \n",
              "2021-08-29 11:45:12.460000038  2.615091e+09\n",
              "2021-08-29 11:45:17.460000038  2.614931e+09\n",
              "2021-08-29 11:45:22.460000038  2.615648e+09\n",
              "2021-08-29 11:45:27.460000038  2.615190e+09\n",
              "2021-08-29 11:45:32.460000038  2.616164e+09\n",
              "...                                     ...\n",
              "2021-08-30 11:44:47.460000038  2.587054e+09\n",
              "2021-08-30 11:44:52.460000038  2.587222e+09\n",
              "2021-08-30 11:44:57.460000038  2.584273e+09\n",
              "2021-08-30 11:45:02.460000038  2.586968e+09\n",
              "2021-08-30 11:45:07.460000038  2.586538e+09\n",
              "\n",
              "[17280 rows x 1 columns]"
            ]
          },
          "metadata": {},
          "execution_count": 10
        }
      ]
    },
    {
      "cell_type": "code",
      "metadata": {
        "id": "kiNWQcLx4TFN"
      },
      "source": [
        "df1=df1.reset_index()"
      ],
      "execution_count": 16,
      "outputs": []
    },
    {
      "cell_type": "code",
      "metadata": {
        "id": "4yGvxiIz4cJB"
      },
      "source": [
        "df1 = df1.rename(columns={'value': 'y', 'time':'ds'})"
      ],
      "execution_count": 17,
      "outputs": []
    },
    {
      "cell_type": "code",
      "metadata": {
        "colab": {
          "base_uri": "https://localhost:8080/",
          "height": 204
        },
        "id": "VE_1enyA4mrk",
        "outputId": "6dbf7a1f-de1a-4ab6-9cf6-f3389db0d60b"
      },
      "source": [
        "df1.head()"
      ],
      "execution_count": 18,
      "outputs": [
        {
          "output_type": "execute_result",
          "data": {
            "text/html": [
              "<div>\n",
              "<style scoped>\n",
              "    .dataframe tbody tr th:only-of-type {\n",
              "        vertical-align: middle;\n",
              "    }\n",
              "\n",
              "    .dataframe tbody tr th {\n",
              "        vertical-align: top;\n",
              "    }\n",
              "\n",
              "    .dataframe thead th {\n",
              "        text-align: right;\n",
              "    }\n",
              "</style>\n",
              "<table border=\"1\" class=\"dataframe\">\n",
              "  <thead>\n",
              "    <tr style=\"text-align: right;\">\n",
              "      <th></th>\n",
              "      <th>ds</th>\n",
              "      <th>y</th>\n",
              "    </tr>\n",
              "  </thead>\n",
              "  <tbody>\n",
              "    <tr>\n",
              "      <th>0</th>\n",
              "      <td>2021-08-29 11:45:12.460000038</td>\n",
              "      <td>2.615091e+09</td>\n",
              "    </tr>\n",
              "    <tr>\n",
              "      <th>1</th>\n",
              "      <td>2021-08-29 11:45:17.460000038</td>\n",
              "      <td>2.614931e+09</td>\n",
              "    </tr>\n",
              "    <tr>\n",
              "      <th>2</th>\n",
              "      <td>2021-08-29 11:45:22.460000038</td>\n",
              "      <td>2.615648e+09</td>\n",
              "    </tr>\n",
              "    <tr>\n",
              "      <th>3</th>\n",
              "      <td>2021-08-29 11:45:27.460000038</td>\n",
              "      <td>2.615190e+09</td>\n",
              "    </tr>\n",
              "    <tr>\n",
              "      <th>4</th>\n",
              "      <td>2021-08-29 11:45:32.460000038</td>\n",
              "      <td>2.616164e+09</td>\n",
              "    </tr>\n",
              "  </tbody>\n",
              "</table>\n",
              "</div>"
            ],
            "text/plain": [
              "                             ds             y\n",
              "0 2021-08-29 11:45:12.460000038  2.615091e+09\n",
              "1 2021-08-29 11:45:17.460000038  2.614931e+09\n",
              "2 2021-08-29 11:45:22.460000038  2.615648e+09\n",
              "3 2021-08-29 11:45:27.460000038  2.615190e+09\n",
              "4 2021-08-29 11:45:32.460000038  2.616164e+09"
            ]
          },
          "metadata": {},
          "execution_count": 18
        }
      ]
    },
    {
      "cell_type": "code",
      "metadata": {
        "id": "onELjnIQ481V"
      },
      "source": [
        "from fbprophet import Prophet\n",
        "import numpy as np\n",
        "import pandas as pd\n",
        "from sklearn.metrics import mean_squared_error"
      ],
      "execution_count": 19,
      "outputs": []
    },
    {
      "cell_type": "code",
      "metadata": {
        "id": "hRALuvda3c70"
      },
      "source": [
        "df1['y_orig'] = df1['y'] # to save a copy of the original data..we'll see why shortly. \n",
        "df1['y'] = np.log(df1['y'])"
      ],
      "execution_count": 20,
      "outputs": []
    },
    {
      "cell_type": "code",
      "metadata": {
        "colab": {
          "base_uri": "https://localhost:8080/",
          "height": 204
        },
        "id": "8Imn_Rvw4_bX",
        "outputId": "4850f190-fb47-41f8-8763-f26a83bc9b50"
      },
      "source": [
        "df1.tail()"
      ],
      "execution_count": 22,
      "outputs": [
        {
          "output_type": "execute_result",
          "data": {
            "text/html": [
              "<div>\n",
              "<style scoped>\n",
              "    .dataframe tbody tr th:only-of-type {\n",
              "        vertical-align: middle;\n",
              "    }\n",
              "\n",
              "    .dataframe tbody tr th {\n",
              "        vertical-align: top;\n",
              "    }\n",
              "\n",
              "    .dataframe thead th {\n",
              "        text-align: right;\n",
              "    }\n",
              "</style>\n",
              "<table border=\"1\" class=\"dataframe\">\n",
              "  <thead>\n",
              "    <tr style=\"text-align: right;\">\n",
              "      <th></th>\n",
              "      <th>ds</th>\n",
              "      <th>y</th>\n",
              "      <th>y_orig</th>\n",
              "    </tr>\n",
              "  </thead>\n",
              "  <tbody>\n",
              "    <tr>\n",
              "      <th>17275</th>\n",
              "      <td>2021-08-30 11:44:47.460000038</td>\n",
              "      <td>21.673786</td>\n",
              "      <td>2.587054e+09</td>\n",
              "    </tr>\n",
              "    <tr>\n",
              "      <th>17276</th>\n",
              "      <td>2021-08-30 11:44:52.460000038</td>\n",
              "      <td>21.673851</td>\n",
              "      <td>2.587222e+09</td>\n",
              "    </tr>\n",
              "    <tr>\n",
              "      <th>17277</th>\n",
              "      <td>2021-08-30 11:44:57.460000038</td>\n",
              "      <td>21.672710</td>\n",
              "      <td>2.584273e+09</td>\n",
              "    </tr>\n",
              "    <tr>\n",
              "      <th>17278</th>\n",
              "      <td>2021-08-30 11:45:02.460000038</td>\n",
              "      <td>21.673752</td>\n",
              "      <td>2.586968e+09</td>\n",
              "    </tr>\n",
              "    <tr>\n",
              "      <th>17279</th>\n",
              "      <td>2021-08-30 11:45:07.460000038</td>\n",
              "      <td>21.673586</td>\n",
              "      <td>2.586538e+09</td>\n",
              "    </tr>\n",
              "  </tbody>\n",
              "</table>\n",
              "</div>"
            ],
            "text/plain": [
              "                                 ds          y        y_orig\n",
              "17275 2021-08-30 11:44:47.460000038  21.673786  2.587054e+09\n",
              "17276 2021-08-30 11:44:52.460000038  21.673851  2.587222e+09\n",
              "17277 2021-08-30 11:44:57.460000038  21.672710  2.584273e+09\n",
              "17278 2021-08-30 11:45:02.460000038  21.673752  2.586968e+09\n",
              "17279 2021-08-30 11:45:07.460000038  21.673586  2.586538e+09"
            ]
          },
          "metadata": {},
          "execution_count": 22
        }
      ]
    },
    {
      "cell_type": "code",
      "metadata": {
        "colab": {
          "base_uri": "https://localhost:8080/"
        },
        "id": "ZtkELoKK5Xxs",
        "outputId": "80917c55-bfd8-4ca1-cf0e-2602086afc75"
      },
      "source": [
        "model = Prophet() #instantiate Prophet\n",
        "model.fit(df1)"
      ],
      "execution_count": 23,
      "outputs": [
        {
          "output_type": "stream",
          "text": [
            "INFO:numexpr.utils:NumExpr defaulting to 2 threads.\n",
            "INFO:fbprophet:Disabling yearly seasonality. Run prophet with yearly_seasonality=True to override this.\n",
            "INFO:fbprophet:Disabling weekly seasonality. Run prophet with weekly_seasonality=True to override this.\n",
            "INFO:fbprophet:Disabling daily seasonality. Run prophet with daily_seasonality=True to override this.\n"
          ],
          "name": "stderr"
        },
        {
          "output_type": "execute_result",
          "data": {
            "text/plain": [
              "<fbprophet.forecaster.Prophet at 0x7efedeb64810>"
            ]
          },
          "metadata": {},
          "execution_count": 23
        }
      ]
    },
    {
      "cell_type": "code",
      "metadata": {
        "colab": {
          "base_uri": "https://localhost:8080/",
          "height": 514
        },
        "id": "A2vzWOXRB5HT",
        "outputId": "03a5c935-7a4f-4b5c-87c1-3aeaaf502683"
      },
      "source": [
        "'''     'year': 'A',\n",
        "        'quarter': 'Q',\n",
        "        'month': 'M',\n",
        "        'day': 'D',\n",
        "        'hour': 'H',\n",
        "        'minute': 'T',\n",
        "        'second': 'S',\n",
        "        'millisecond': 'L',\n",
        "        'microsecond': 'U',\n",
        "        'nanosecond': 'N'}\n",
        "'''\n",
        "\n",
        "#future_data = model.make_future_dataframe(periods=6, freq = 'H')\n",
        "future_data = model.make_future_dataframe(periods=10, freq = 'H')\n",
        "future_data.tail(15)"
      ],
      "execution_count": 25,
      "outputs": [
        {
          "output_type": "execute_result",
          "data": {
            "text/html": [
              "<div>\n",
              "<style scoped>\n",
              "    .dataframe tbody tr th:only-of-type {\n",
              "        vertical-align: middle;\n",
              "    }\n",
              "\n",
              "    .dataframe tbody tr th {\n",
              "        vertical-align: top;\n",
              "    }\n",
              "\n",
              "    .dataframe thead th {\n",
              "        text-align: right;\n",
              "    }\n",
              "</style>\n",
              "<table border=\"1\" class=\"dataframe\">\n",
              "  <thead>\n",
              "    <tr style=\"text-align: right;\">\n",
              "      <th></th>\n",
              "      <th>ds</th>\n",
              "    </tr>\n",
              "  </thead>\n",
              "  <tbody>\n",
              "    <tr>\n",
              "      <th>17275</th>\n",
              "      <td>2021-08-30 11:44:47.460000038</td>\n",
              "    </tr>\n",
              "    <tr>\n",
              "      <th>17276</th>\n",
              "      <td>2021-08-30 11:44:52.460000038</td>\n",
              "    </tr>\n",
              "    <tr>\n",
              "      <th>17277</th>\n",
              "      <td>2021-08-30 11:44:57.460000038</td>\n",
              "    </tr>\n",
              "    <tr>\n",
              "      <th>17278</th>\n",
              "      <td>2021-08-30 11:45:02.460000038</td>\n",
              "    </tr>\n",
              "    <tr>\n",
              "      <th>17279</th>\n",
              "      <td>2021-08-30 11:45:07.460000038</td>\n",
              "    </tr>\n",
              "    <tr>\n",
              "      <th>17280</th>\n",
              "      <td>2021-08-30 12:45:07.460000038</td>\n",
              "    </tr>\n",
              "    <tr>\n",
              "      <th>17281</th>\n",
              "      <td>2021-08-30 13:45:07.460000038</td>\n",
              "    </tr>\n",
              "    <tr>\n",
              "      <th>17282</th>\n",
              "      <td>2021-08-30 14:45:07.460000038</td>\n",
              "    </tr>\n",
              "    <tr>\n",
              "      <th>17283</th>\n",
              "      <td>2021-08-30 15:45:07.460000038</td>\n",
              "    </tr>\n",
              "    <tr>\n",
              "      <th>17284</th>\n",
              "      <td>2021-08-30 16:45:07.460000038</td>\n",
              "    </tr>\n",
              "    <tr>\n",
              "      <th>17285</th>\n",
              "      <td>2021-08-30 17:45:07.460000038</td>\n",
              "    </tr>\n",
              "    <tr>\n",
              "      <th>17286</th>\n",
              "      <td>2021-08-30 18:45:07.460000038</td>\n",
              "    </tr>\n",
              "    <tr>\n",
              "      <th>17287</th>\n",
              "      <td>2021-08-30 19:45:07.460000038</td>\n",
              "    </tr>\n",
              "    <tr>\n",
              "      <th>17288</th>\n",
              "      <td>2021-08-30 20:45:07.460000038</td>\n",
              "    </tr>\n",
              "    <tr>\n",
              "      <th>17289</th>\n",
              "      <td>2021-08-30 21:45:07.460000038</td>\n",
              "    </tr>\n",
              "  </tbody>\n",
              "</table>\n",
              "</div>"
            ],
            "text/plain": [
              "                                 ds\n",
              "17275 2021-08-30 11:44:47.460000038\n",
              "17276 2021-08-30 11:44:52.460000038\n",
              "17277 2021-08-30 11:44:57.460000038\n",
              "17278 2021-08-30 11:45:02.460000038\n",
              "17279 2021-08-30 11:45:07.460000038\n",
              "17280 2021-08-30 12:45:07.460000038\n",
              "17281 2021-08-30 13:45:07.460000038\n",
              "17282 2021-08-30 14:45:07.460000038\n",
              "17283 2021-08-30 15:45:07.460000038\n",
              "17284 2021-08-30 16:45:07.460000038\n",
              "17285 2021-08-30 17:45:07.460000038\n",
              "17286 2021-08-30 18:45:07.460000038\n",
              "17287 2021-08-30 19:45:07.460000038\n",
              "17288 2021-08-30 20:45:07.460000038\n",
              "17289 2021-08-30 21:45:07.460000038"
            ]
          },
          "metadata": {},
          "execution_count": 25
        }
      ]
    },
    {
      "cell_type": "code",
      "metadata": {
        "colab": {
          "base_uri": "https://localhost:8080/",
          "height": 514
        },
        "id": "nWeqlmKTCJPI",
        "outputId": "89734e23-27f8-46e3-9409-77acadc9cd7c"
      },
      "source": [
        "forecast_data = model.predict(future_data)\n",
        "forecast_data[['ds', 'yhat', 'yhat_lower', 'yhat_upper']].tail(15)"
      ],
      "execution_count": 26,
      "outputs": [
        {
          "output_type": "execute_result",
          "data": {
            "text/html": [
              "<div>\n",
              "<style scoped>\n",
              "    .dataframe tbody tr th:only-of-type {\n",
              "        vertical-align: middle;\n",
              "    }\n",
              "\n",
              "    .dataframe tbody tr th {\n",
              "        vertical-align: top;\n",
              "    }\n",
              "\n",
              "    .dataframe thead th {\n",
              "        text-align: right;\n",
              "    }\n",
              "</style>\n",
              "<table border=\"1\" class=\"dataframe\">\n",
              "  <thead>\n",
              "    <tr style=\"text-align: right;\">\n",
              "      <th></th>\n",
              "      <th>ds</th>\n",
              "      <th>yhat</th>\n",
              "      <th>yhat_lower</th>\n",
              "      <th>yhat_upper</th>\n",
              "    </tr>\n",
              "  </thead>\n",
              "  <tbody>\n",
              "    <tr>\n",
              "      <th>17275</th>\n",
              "      <td>2021-08-30 11:44:47.460000038</td>\n",
              "      <td>21.673464</td>\n",
              "      <td>21.672985</td>\n",
              "      <td>21.673980</td>\n",
              "    </tr>\n",
              "    <tr>\n",
              "      <th>17276</th>\n",
              "      <td>2021-08-30 11:44:52.460000038</td>\n",
              "      <td>21.673463</td>\n",
              "      <td>21.672982</td>\n",
              "      <td>21.673949</td>\n",
              "    </tr>\n",
              "    <tr>\n",
              "      <th>17277</th>\n",
              "      <td>2021-08-30 11:44:57.460000038</td>\n",
              "      <td>21.673463</td>\n",
              "      <td>21.672991</td>\n",
              "      <td>21.673951</td>\n",
              "    </tr>\n",
              "    <tr>\n",
              "      <th>17278</th>\n",
              "      <td>2021-08-30 11:45:02.460000038</td>\n",
              "      <td>21.673462</td>\n",
              "      <td>21.672974</td>\n",
              "      <td>21.673938</td>\n",
              "    </tr>\n",
              "    <tr>\n",
              "      <th>17279</th>\n",
              "      <td>2021-08-30 11:45:07.460000038</td>\n",
              "      <td>21.673462</td>\n",
              "      <td>21.672976</td>\n",
              "      <td>21.673946</td>\n",
              "    </tr>\n",
              "    <tr>\n",
              "      <th>17280</th>\n",
              "      <td>2021-08-30 12:45:07.460000038</td>\n",
              "      <td>21.673058</td>\n",
              "      <td>21.672575</td>\n",
              "      <td>21.673570</td>\n",
              "    </tr>\n",
              "    <tr>\n",
              "      <th>17281</th>\n",
              "      <td>2021-08-30 13:45:07.460000038</td>\n",
              "      <td>21.672655</td>\n",
              "      <td>21.672091</td>\n",
              "      <td>21.673237</td>\n",
              "    </tr>\n",
              "    <tr>\n",
              "      <th>17282</th>\n",
              "      <td>2021-08-30 14:45:07.460000038</td>\n",
              "      <td>21.672251</td>\n",
              "      <td>21.671528</td>\n",
              "      <td>21.672998</td>\n",
              "    </tr>\n",
              "    <tr>\n",
              "      <th>17283</th>\n",
              "      <td>2021-08-30 15:45:07.460000038</td>\n",
              "      <td>21.671848</td>\n",
              "      <td>21.670893</td>\n",
              "      <td>21.672894</td>\n",
              "    </tr>\n",
              "    <tr>\n",
              "      <th>17284</th>\n",
              "      <td>2021-08-30 16:45:07.460000038</td>\n",
              "      <td>21.671444</td>\n",
              "      <td>21.670207</td>\n",
              "      <td>21.672723</td>\n",
              "    </tr>\n",
              "    <tr>\n",
              "      <th>17285</th>\n",
              "      <td>2021-08-30 17:45:07.460000038</td>\n",
              "      <td>21.671040</td>\n",
              "      <td>21.669440</td>\n",
              "      <td>21.672693</td>\n",
              "    </tr>\n",
              "    <tr>\n",
              "      <th>17286</th>\n",
              "      <td>2021-08-30 18:45:07.460000038</td>\n",
              "      <td>21.670637</td>\n",
              "      <td>21.668586</td>\n",
              "      <td>21.672685</td>\n",
              "    </tr>\n",
              "    <tr>\n",
              "      <th>17287</th>\n",
              "      <td>2021-08-30 19:45:07.460000038</td>\n",
              "      <td>21.670233</td>\n",
              "      <td>21.667773</td>\n",
              "      <td>21.672714</td>\n",
              "    </tr>\n",
              "    <tr>\n",
              "      <th>17288</th>\n",
              "      <td>2021-08-30 20:45:07.460000038</td>\n",
              "      <td>21.669830</td>\n",
              "      <td>21.666746</td>\n",
              "      <td>21.672819</td>\n",
              "    </tr>\n",
              "    <tr>\n",
              "      <th>17289</th>\n",
              "      <td>2021-08-30 21:45:07.460000038</td>\n",
              "      <td>21.669426</td>\n",
              "      <td>21.665832</td>\n",
              "      <td>21.673041</td>\n",
              "    </tr>\n",
              "  </tbody>\n",
              "</table>\n",
              "</div>"
            ],
            "text/plain": [
              "                                 ds       yhat  yhat_lower  yhat_upper\n",
              "17275 2021-08-30 11:44:47.460000038  21.673464   21.672985   21.673980\n",
              "17276 2021-08-30 11:44:52.460000038  21.673463   21.672982   21.673949\n",
              "17277 2021-08-30 11:44:57.460000038  21.673463   21.672991   21.673951\n",
              "17278 2021-08-30 11:45:02.460000038  21.673462   21.672974   21.673938\n",
              "17279 2021-08-30 11:45:07.460000038  21.673462   21.672976   21.673946\n",
              "17280 2021-08-30 12:45:07.460000038  21.673058   21.672575   21.673570\n",
              "17281 2021-08-30 13:45:07.460000038  21.672655   21.672091   21.673237\n",
              "17282 2021-08-30 14:45:07.460000038  21.672251   21.671528   21.672998\n",
              "17283 2021-08-30 15:45:07.460000038  21.671848   21.670893   21.672894\n",
              "17284 2021-08-30 16:45:07.460000038  21.671444   21.670207   21.672723\n",
              "17285 2021-08-30 17:45:07.460000038  21.671040   21.669440   21.672693\n",
              "17286 2021-08-30 18:45:07.460000038  21.670637   21.668586   21.672685\n",
              "17287 2021-08-30 19:45:07.460000038  21.670233   21.667773   21.672714\n",
              "17288 2021-08-30 20:45:07.460000038  21.669830   21.666746   21.672819\n",
              "17289 2021-08-30 21:45:07.460000038  21.669426   21.665832   21.673041"
            ]
          },
          "metadata": {},
          "execution_count": 26
        }
      ]
    },
    {
      "cell_type": "code",
      "metadata": {
        "colab": {
          "base_uri": "https://localhost:8080/",
          "height": 865
        },
        "id": "We3EEIZICsrM",
        "outputId": "586aa742-57d3-4ffd-a479-c99897efedf5"
      },
      "source": [
        "model.plot(forecast_data)"
      ],
      "execution_count": 27,
      "outputs": [
        {
          "output_type": "execute_result",
          "data": {
            "image/png": "[encoded data removed]",
            "text/plain": [
              "<Figure size 720x432 with 1 Axes>"
            ]
          },
          "metadata": {},
          "execution_count": 27
        },
        {
          "output_type": "display_data",
          "data": {
            "image/png": "[encoded data removed]",
            "text/plain": [
              "<Figure size 720x432 with 1 Axes>"
            ]
          },
          "metadata": {}
        }
      ]
    },
    {
      "cell_type": "code",
      "metadata": {
        "id": "3uFMeyLADWrk"
      },
      "source": [
        "forecast_data_orig = forecast_data # make sure we save the original forecast data\n",
        "forecast_data_orig['yhat'] = np.exp(forecast_data_orig['yhat'])\n",
        "forecast_data_orig['yhat_lower'] = np.exp(forecast_data_orig['yhat_lower'])\n",
        "forecast_data_orig['yhat_upper'] = np.exp(forecast_data_orig['yhat_upper'])\n"
      ],
      "execution_count": 29,
      "outputs": []
    },
    {
      "cell_type": "code",
      "metadata": {
        "colab": {
          "base_uri": "https://localhost:8080/",
          "height": 865
        },
        "id": "IzHQuF1tDyD8",
        "outputId": "8664036f-aa56-4b8d-ebd6-067bf8581e24"
      },
      "source": [
        "model.plot(forecast_data_orig)"
      ],
      "execution_count": 30,
      "outputs": [
        {
          "output_type": "execute_result",
          "data": {
            "image/png": "[encoded data removed]",
            "text/plain": [
              "<Figure size 720x432 with 1 Axes>"
            ]
          },
          "metadata": {},
          "execution_count": 30
        },
        {
          "output_type": "display_data",
          "data": {
            "image/png": "[encoded data removed]",
            "text/plain": [
              "<Figure size 720x432 with 1 Axes>"
            ]
          },
          "metadata": {}
        }
      ]
    },
    {
      "cell_type": "code",
      "metadata": {
        "id": "YRsOFxGaEIvF"
      },
      "source": [
        "df1['y_log']=df1['y'] #copy the log-transformed data to another column\n",
        "df1['y']=df1['y_orig']"
      ],
      "execution_count": 32,
      "outputs": []
    },
    {
      "cell_type": "code",
      "metadata": {
        "id": "vNilfQcuEOrX"
      },
      "source": [
        "final_df = pd.DataFrame(forecast_data_orig)"
      ],
      "execution_count": 33,
      "outputs": []
    },
    {
      "cell_type": "code",
      "metadata": {
        "id": "wK2JJFjrEVgM"
      },
      "source": [
        "import plotly.graph_objs as go\n",
        "import plotly.offline as py"
      ],
      "execution_count": 34,
      "outputs": []
    },
    {
      "cell_type": "code",
      "metadata": {
        "colab": {
          "base_uri": "https://localhost:8080/",
          "height": 35
        },
        "id": "duTuPrfjEcKc",
        "outputId": "a236953e-8ff5-4c01-ad0a-11a74550b917"
      },
      "source": [
        "#Plot predicted and actual line graph with X=dates, Y=Outbound\n",
        "actual_chart = go.Scatter(y=df1[\"y_orig\"], name= 'Actual')\n",
        "predict_chart = go.Scatter(y=final_df[\"yhat\"], name= 'Predicted')\n",
        "predict_chart_upper = go.Scatter(y=final_df[\"yhat_upper\"], name= 'Predicted Upper')\n",
        "predict_chart_lower = go.Scatter(y=final_df[\"yhat_lower\"], name= 'Predicted Lower')\n",
        "py.plot([actual_chart, predict_chart, predict_chart_upper, predict_chart_lower], image_width=400, image_height=400)\n",
        "#py.plot([actual_chart, predict_chart, predict_chart_upper, predict_chart_lower], filename = 'templates/' +'filename.html', auto_open=False)"
      ],
      "execution_count": 36,
      "outputs": [
        {
          "output_type": "execute_result",
          "data": {
            "application/vnd.google.colaboratory.intrinsic+json": {
              "type": "string"
            },
            "text/plain": [
              "'temp-plot.html'"
            ]
          },
          "metadata": {},
          "execution_count": 36
        }
      ]
    },
    {
      "cell_type": "code",
      "metadata": {
        "colab": {
          "base_uri": "https://localhost:8080/",
          "height": 35
        },
        "id": "Ttct6IixGC58",
        "outputId": "1612aa7d-404e-47d5-e799-b53d4034a709"
      },
      "source": [
        "pwd"
      ],
      "execution_count": 38,
      "outputs": [
        {
          "output_type": "execute_result",
          "data": {
            "application/vnd.google.colaboratory.intrinsic+json": {
              "type": "string"
            },
            "text/plain": [
              "'/content'"
            ]
          },
          "metadata": {},
          "execution_count": 38
        }
      ]
    }
  ]
}